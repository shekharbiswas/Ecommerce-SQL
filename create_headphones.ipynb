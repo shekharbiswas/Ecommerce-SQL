{
 "cells": [
  {
   "cell_type": "code",
   "execution_count": 2,
   "metadata": {},
   "outputs": [],
   "source": [
    "import numpy as np \n",
    "import pandas as pd \n",
    "import json"
   ]
  },
  {
   "cell_type": "code",
   "execution_count": 6,
   "metadata": {},
   "outputs": [],
   "source": [
    "df = pd.read_csv('headphone_search.csv', index_col= False)\n",
    "df.drop(columns=['Unnamed: 0'], inplace= True)"
   ]
  },
  {
   "cell_type": "code",
   "execution_count": 7,
   "metadata": {},
   "outputs": [
    {
     "output_type": "execute_result",
     "data": {
      "text/plain": "                                               title  \\\n0  Betron DC950HI Earbuds, Noise Isolating in Ear...   \n1  Bluetooth Headphones,Tuinyo Wireless Headphone...   \n\n                                                 url              rating  \\\n0  https://www.amazon.com/gp/slredirect/picassoRe...  4.2 out of 5 stars   \n1  https://www.amazon.com/gp/slredirect/picassoRe...  4.3 out of 5 stars   \n\n  reviews   price                                         search_url  \n0   4,093  $12.99  https://www.amazon.com/s?k=Headphones&ref=nb_s...  \n1     646  $23.99  https://www.amazon.com/s?k=Headphones&ref=nb_s...  ",
      "text/html": "<div>\n<style scoped>\n    .dataframe tbody tr th:only-of-type {\n        vertical-align: middle;\n    }\n\n    .dataframe tbody tr th {\n        vertical-align: top;\n    }\n\n    .dataframe thead th {\n        text-align: right;\n    }\n</style>\n<table border=\"1\" class=\"dataframe\">\n  <thead>\n    <tr style=\"text-align: right;\">\n      <th></th>\n      <th>title</th>\n      <th>url</th>\n      <th>rating</th>\n      <th>reviews</th>\n      <th>price</th>\n      <th>search_url</th>\n    </tr>\n  </thead>\n  <tbody>\n    <tr>\n      <th>0</th>\n      <td>Betron DC950HI Earbuds, Noise Isolating in Ear...</td>\n      <td>https://www.amazon.com/gp/slredirect/picassoRe...</td>\n      <td>4.2 out of 5 stars</td>\n      <td>4,093</td>\n      <td>$12.99</td>\n      <td>https://www.amazon.com/s?k=Headphones&amp;ref=nb_s...</td>\n    </tr>\n    <tr>\n      <th>1</th>\n      <td>Bluetooth Headphones,Tuinyo Wireless Headphone...</td>\n      <td>https://www.amazon.com/gp/slredirect/picassoRe...</td>\n      <td>4.3 out of 5 stars</td>\n      <td>646</td>\n      <td>$23.99</td>\n      <td>https://www.amazon.com/s?k=Headphones&amp;ref=nb_s...</td>\n    </tr>\n  </tbody>\n</table>\n</div>"
     },
     "metadata": {},
     "execution_count": 7
    }
   ],
   "source": [
    "df.head(2)"
   ]
  },
  {
   "cell_type": "code",
   "execution_count": null,
   "metadata": {},
   "outputs": [],
   "source": []
  }
 ],
 "metadata": {
  "language_info": {
   "codemirror_mode": {
    "name": "ipython",
    "version": 3
   },
   "file_extension": ".py",
   "mimetype": "text/x-python",
   "name": "python",
   "nbconvert_exporter": "python",
   "pygments_lexer": "ipython3",
   "version": "3.8.3-final"
  },
  "orig_nbformat": 2,
  "kernelspec": {
   "name": "python38332bitb722a6b6e0ac430ba299884178c2c126",
   "display_name": "Python 3.8.3 32-bit"
  }
 },
 "nbformat": 4,
 "nbformat_minor": 2
}
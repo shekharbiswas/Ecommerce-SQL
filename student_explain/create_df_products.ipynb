{
 "metadata": {
  "language_info": {
   "codemirror_mode": {
    "name": "ipython",
    "version": 3
   },
   "file_extension": ".py",
   "mimetype": "text/x-python",
   "name": "python",
   "nbconvert_exporter": "python",
   "pygments_lexer": "ipython3",
   "version": "3.8.3-final"
  },
  "orig_nbformat": 2,
  "kernelspec": {
   "name": "python38332bitb722a6b6e0ac430ba299884178c2c126",
   "display_name": "Python 3.8.3 32-bit"
  }
 },
 "nbformat": 4,
 "nbformat_minor": 2,
 "cells": [
  {
   "cell_type": "code",
   "execution_count": 1,
   "metadata": {},
   "outputs": [],
   "source": [
    "import numpy as np\n",
    "import pandas as pd"
   ]
  },
  {
   "cell_type": "code",
   "execution_count": 3,
   "metadata": {},
   "outputs": [],
   "source": [
    "df = pd.read_json('product_details.json')"
   ]
  },
  {
   "cell_type": "code",
   "execution_count": 7,
   "metadata": {},
   "outputs": [
    {
     "output_type": "execute_result",
     "data": {
      "text/plain": "                                                name  product_summary  \\\n0  POPTEL P10 Rugged Cell Phones Unlocked, IP68 W...              NaN   \n1  Moto G8 Play | Unlocked | International GSM on...              NaN   \n\n   product_details                                       product_addl  \\\n0              NaN  [{'info': 'Product Dimensions', 'value': '6.11...   \n1              NaN  [{'info': 'Package Dimensions', 'value': '6.6 ...   \n\n             seller                                        seller_link  \\\n0            POPTEL  https://www.amazon.com/gp/help/seller/at-a-gla...   \n1  Amazon Warehouse  https://www.amazon.com/gp/help/seller/at-a-gla...   \n\n                                         freq_bought  \\\n0                                               None   \n1  Moto G8 Play Screen Protector, [3-Pack] SPARIN...   \n\n                                    freq_bought_link  \\\n0                                               None   \n1  https://www.amazon.com/Protector-SPARIN-Temper...   \n\n                                 link_to_all_reviews  \n0  /Unlocked-Waterproof-Smartphone-5-5inch-Ultra-...  \n1  /Motorola-Moto-Play-XT2015-2-32GB/product-revi...  ",
      "text/html": "<div>\n<style scoped>\n    .dataframe tbody tr th:only-of-type {\n        vertical-align: middle;\n    }\n\n    .dataframe tbody tr th {\n        vertical-align: top;\n    }\n\n    .dataframe thead th {\n        text-align: right;\n    }\n</style>\n<table border=\"1\" class=\"dataframe\">\n  <thead>\n    <tr style=\"text-align: right;\">\n      <th></th>\n      <th>name</th>\n      <th>product_summary</th>\n      <th>product_details</th>\n      <th>product_addl</th>\n      <th>seller</th>\n      <th>seller_link</th>\n      <th>freq_bought</th>\n      <th>freq_bought_link</th>\n      <th>link_to_all_reviews</th>\n    </tr>\n  </thead>\n  <tbody>\n    <tr>\n      <th>0</th>\n      <td>POPTEL P10 Rugged Cell Phones Unlocked, IP68 W...</td>\n      <td>NaN</td>\n      <td>NaN</td>\n      <td>[{'info': 'Product Dimensions', 'value': '6.11...</td>\n      <td>POPTEL</td>\n      <td>https://www.amazon.com/gp/help/seller/at-a-gla...</td>\n      <td>None</td>\n      <td>None</td>\n      <td>/Unlocked-Waterproof-Smartphone-5-5inch-Ultra-...</td>\n    </tr>\n    <tr>\n      <th>1</th>\n      <td>Moto G8 Play | Unlocked | International GSM on...</td>\n      <td>NaN</td>\n      <td>NaN</td>\n      <td>[{'info': 'Package Dimensions', 'value': '6.6 ...</td>\n      <td>Amazon Warehouse</td>\n      <td>https://www.amazon.com/gp/help/seller/at-a-gla...</td>\n      <td>Moto G8 Play Screen Protector, [3-Pack] SPARIN...</td>\n      <td>https://www.amazon.com/Protector-SPARIN-Temper...</td>\n      <td>/Motorola-Moto-Play-XT2015-2-32GB/product-revi...</td>\n    </tr>\n  </tbody>\n</table>\n</div>"
     },
     "metadata": {},
     "execution_count": 7
    }
   ],
   "source": [
    "df.head(2)"
   ]
  },
  {
   "cell_type": "code",
   "execution_count": 8,
   "metadata": {},
   "outputs": [
    {
     "output_type": "execute_result",
     "data": {
      "text/plain": "list"
     },
     "metadata": {},
     "execution_count": 8
    }
   ],
   "source": [
    "type(df.product_addl[0])"
   ]
  },
  {
   "cell_type": "code",
   "execution_count": 25,
   "metadata": {
    "tags": []
   },
   "outputs": [],
   "source": [
    "\n",
    "#for i in range(df.shape[0]):\n",
    "#    l.append([d['info'] for d in df.product_addl[i]])\n"
   ]
  },
  {
   "cell_type": "code",
   "execution_count": 29,
   "metadata": {},
   "outputs": [],
   "source": [
    "l = []\n",
    "\n",
    "for i in range(df.shape[0]):\n",
    "    try:\n",
    "        cols = [d['info'] for d in df.product_addl[i]]\n",
    "        l = list(set().union(cols,l))\n",
    "    except:\n",
    "        continue"
   ]
  },
  {
   "cell_type": "code",
   "execution_count": 30,
   "metadata": {},
   "outputs": [
    {
     "output_type": "execute_result",
     "data": {
      "text/plain": "23"
     },
     "metadata": {},
     "execution_count": 30
    }
   ],
   "source": [
    "len(l)"
   ]
  },
  {
   "cell_type": "code",
   "execution_count": 31,
   "metadata": {},
   "outputs": [
    {
     "output_type": "execute_result",
     "data": {
      "text/plain": "['Colour',\n 'Included Components',\n 'OS',\n 'Manufacturer',\n 'Device interface - primary',\n 'ASIN',\n 'Other display features',\n 'Package Dimensions',\n 'Date First Available',\n 'Other camera features',\n 'Audio Jack',\n 'Customer Reviews',\n 'Item model number',\n 'Item Weight',\n 'Best Sellers Rank',\n 'RAM',\n 'Is Discontinued By Manufacturer',\n 'Form Factor',\n 'Batteries',\n 'Product Dimensions',\n 'Additional Features',\n 'Wireless communication technologies',\n 'Connectivity technologies']"
     },
     "metadata": {},
     "execution_count": 31
    }
   ],
   "source": [
    "l"
   ]
  },
  {
   "cell_type": "code",
   "execution_count": 32,
   "metadata": {},
   "outputs": [
    {
     "output_type": "execute_result",
     "data": {
      "text/plain": "['6.11 x 2.94 x 0.47 inches',\n '7.2 ounces',\n 'B07PRCKPDP',\n '1 Lithium Polymer batteries required. (included)',\n '/*\\n* Fix for UDP-1061. Average customer reviews has a small extra line on hover\\n* https://omni-grok.amazon.com/xref/src/appgroup/websiteTemplates/retail/SoftlinesDetailPageAssets/udp-intl-lock/src/legacy.css?indexName=WebsiteTemplates#40\\n*/\\n.noUnderline a:hover {\\ntext-decoration: none;\\n} 3.7 out of 5 stars 6 ratings P.when(\\'A\\', \\'ready\\').execute(function(A) {\\nA.declarative(\\'acrLink-click-metrics\\', \\'click\\', { \"allowLinkDefault\" : true }, function(event){\\nif(window.ue) {\\nue.count(\"acrLinkClickCount\", (ue.count(\"acrLinkClickCount\") || 0) + 1);\\n}\\n});\\n}); P.when(\\'A\\', \\'cf\\').execute(function(A) {\\nA.declarative(\\'acrStarsLink-click-metrics\\', \\'click\\', { \"allowLinkDefault\" : true },  function(event){\\nif(window.ue) {\\nue.count(\"acrStarsLinkWithPopoverClickCount\", (ue.count(\"acrStarsLinkWithPopoverClickCount\") || 0) + 1);\\n}\\n});\\n}); 3.7 out of 5 stars',\n '#505,412 in Cell Phones & Accessories ( See Top 100 in Cell Phones & Accessories ) #7,327 in Unlocked Cell Phones',\n 'Android',\n 'Wireless',\n 'Smartphone',\n 'Black',\n 'poptel',\n 'March 17, 2019']"
     },
     "metadata": {},
     "execution_count": 32
    }
   ],
   "source": [
    "[d['value'] for d in df.product_addl[0]]"
   ]
  },
  {
   "cell_type": "code",
   "execution_count": 33,
   "metadata": {},
   "outputs": [],
   "source": [
    "df_addl= pd.DataFrame([['']*len(l)], columns=l)\n"
   ]
  },
  {
   "cell_type": "code",
   "execution_count": 34,
   "metadata": {},
   "outputs": [
    {
     "output_type": "execute_result",
     "data": {
      "text/plain": "  Colour Included Components OS Manufacturer Device interface - primary ASIN  \\\n0                                                                              \n\n  Other display features Package Dimensions Date First Available  \\\n0                                                                  \n\n  Other camera features  ... Item Weight Best Sellers Rank RAM  \\\n0                        ...                                     \n\n  Is Discontinued By Manufacturer Form Factor Batteries Product Dimensions  \\\n0                                                                            \n\n  Additional Features Wireless communication technologies  \\\n0                                                           \n\n  Connectivity technologies  \n0                            \n\n[1 rows x 23 columns]",
      "text/html": "<div>\n<style scoped>\n    .dataframe tbody tr th:only-of-type {\n        vertical-align: middle;\n    }\n\n    .dataframe tbody tr th {\n        vertical-align: top;\n    }\n\n    .dataframe thead th {\n        text-align: right;\n    }\n</style>\n<table border=\"1\" class=\"dataframe\">\n  <thead>\n    <tr style=\"text-align: right;\">\n      <th></th>\n      <th>Colour</th>\n      <th>Included Components</th>\n      <th>OS</th>\n      <th>Manufacturer</th>\n      <th>Device interface - primary</th>\n      <th>ASIN</th>\n      <th>Other display features</th>\n      <th>Package Dimensions</th>\n      <th>Date First Available</th>\n      <th>Other camera features</th>\n      <th>...</th>\n      <th>Item Weight</th>\n      <th>Best Sellers Rank</th>\n      <th>RAM</th>\n      <th>Is Discontinued By Manufacturer</th>\n      <th>Form Factor</th>\n      <th>Batteries</th>\n      <th>Product Dimensions</th>\n      <th>Additional Features</th>\n      <th>Wireless communication technologies</th>\n      <th>Connectivity technologies</th>\n    </tr>\n  </thead>\n  <tbody>\n    <tr>\n      <th>0</th>\n      <td></td>\n      <td></td>\n      <td></td>\n      <td></td>\n      <td></td>\n      <td></td>\n      <td></td>\n      <td></td>\n      <td></td>\n      <td></td>\n      <td>...</td>\n      <td></td>\n      <td></td>\n      <td></td>\n      <td></td>\n      <td></td>\n      <td></td>\n      <td></td>\n      <td></td>\n      <td></td>\n      <td></td>\n    </tr>\n  </tbody>\n</table>\n<p>1 rows × 23 columns</p>\n</div>"
     },
     "metadata": {},
     "execution_count": 34
    }
   ],
   "source": [
    "df_addl"
   ]
  },
  {
   "cell_type": "code",
   "execution_count": 42,
   "metadata": {},
   "outputs": [],
   "source": [
    "for i in range(df.shape[0]):\n",
    "    try:\n",
    "       cols = [d['info'] for d in df.product_addl[i]]\n",
    "       values = [d['value'] for d in df.product_addl[i]]\n",
    "       for item in cols:\n",
    "           df_addl.loc[i,item] = values.pop(0)\n",
    "\n",
    "\n",
    "    except:\n",
    "        df_addl.loc[i,] = ''\n",
    "        continue\n"
   ]
  },
  {
   "cell_type": "code",
   "execution_count": 37,
   "metadata": {},
   "outputs": [],
   "source": [
    "val = [d['value'] for d in df.product_addl[0]]"
   ]
  },
  {
   "cell_type": "code",
   "execution_count": 39,
   "metadata": {},
   "outputs": [
    {
     "output_type": "execute_result",
     "data": {
      "text/plain": "'6.11 x 2.94 x 0.47 inches'"
     },
     "metadata": {},
     "execution_count": 39
    }
   ],
   "source": [
    "val.pop(0)"
   ]
  },
  {
   "cell_type": "code",
   "execution_count": 41,
   "metadata": {},
   "outputs": [
    {
     "output_type": "execute_result",
     "data": {
      "text/plain": "'7.2 ounces'"
     },
     "metadata": {},
     "execution_count": 41
    }
   ],
   "source": [
    "val.pop(0)"
   ]
  },
  {
   "cell_type": "code",
   "execution_count": 43,
   "metadata": {},
   "outputs": [
    {
     "output_type": "execute_result",
     "data": {
      "text/plain": "       Colour                                Included Components  \\\n0       Black                                                      \n1         NaN                                                NaN   \n2         Red                                                NaN   \n3         NaN                                                NaN   \n4       Black                                                NaN   \n5  Space Grey                                                NaN   \n6  Just Black  USB-C to C Cable, SIM tool, AC Adapter, OTG Do...   \n7         NaN                                                NaN   \n8         NaN                                                NaN   \n\n                   OS Manufacturer Device interface - primary        ASIN  \\\n0             Android       poptel                             B07PRCKPDP   \n1                 NaN     Motorola                        NaN  B07ZG6W4S2   \n2                 NaN      Samsung                        NaN  B07ZDH95L4   \n3                 NaN     Motorola                        NaN  B084CVPLLC   \n4             Android      Samsung                        NaN  B07Q84DPZH   \n5        Android 10.0      UMIDIGI                        NaN  B083DMMM3K   \n6  Chrome OS, Android   Google LLC                Touchscreen  B07R7DY911   \n7                 NaN          TCL                        NaN  B087LYQ22N   \n8                 NaN        CUBOT                        NaN  B0834X2743   \n\n  Other display features         Package Dimensions Date First Available  \\\n0               Wireless                                  March 17, 2019   \n1                    NaN       6.6 x 3.7 x 2 inches     October 24, 2019   \n2               Wireless  6.77 x 3.39 x 1.89 inches     October 21, 2019   \n3                    NaN                        NaN        April 1, 2020   \n4               Wireless                        NaN        April 2, 2019   \n5                     CE     7.2 x 3.9 x 1.9 inches      January 1, 2020   \n6               Wireless                        NaN       April 29, 2019   \n7                    NaN                        NaN       April 22, 2020   \n8                    NaN                        NaN    December 26, 2019   \n\n  Other camera features  ...  Item Weight  \\\n0                        ...   7.2 ounces   \n1                   NaN  ...   5.1 ounces   \n2                   NaN  ...    12 ounces   \n3                   NaN  ...    12 ounces   \n4                   NaN  ...  10.6 ounces   \n5           Rear, Front  ...   6.9 ounces   \n6                   NaN  ...   5.1 ounces   \n7                   NaN  ...  13.4 ounces   \n8                   NaN  ...  14.3 ounces   \n\n                                   Best Sellers Rank    RAM  \\\n0  #505,412 in Cell Phones & Accessories ( See To...          \n1  #1,312 in Cell Phones & Accessories ( See Top ...    NaN   \n2  #199 in Cell Phones & Accessories ( See Top 10...    NaN   \n3  #211 in Cell Phones & Accessories ( See Top 10...    NaN   \n4  #4,144 in Cell Phones & Accessories ( See Top ...   2 GB   \n5  #22,038 in Cell Phones & Accessories ( See Top...    NaN   \n6  #295 in Cell Phones & Accessories ( See Top 10...  64 GB   \n7  #6,404 in Cell Phones & Accessories ( See Top ...    NaN   \n8  #14,513 in Cell Phones & Accessories ( See Top...    NaN   \n\n  Is Discontinued By Manufacturer Form Factor  \\\n0                                  Smartphone   \n1                              No         NaN   \n2                              No  Smartphone   \n3                             NaN         NaN   \n4                              No  Smartphone   \n5                             NaN  Smartphone   \n6                             NaN  Smartphone   \n7                             NaN         NaN   \n8                              No         NaN   \n\n                                          Batteries  \\\n0  1 Lithium Polymer batteries required. (included)   \n1  1 Lithium Polymer batteries required. (included)   \n2      1 Lithium ion batteries required. (included)   \n3      1 Lithium ion batteries required. (included)   \n4  1 Lithium Polymer batteries required. (included)   \n5                                               NaN   \n6  1 Lithium Polymer batteries required. (included)   \n7                                               NaN   \n8      1 Lithium ion batteries required. (included)   \n\n          Product Dimensions Additional Features  \\\n0  6.11 x 2.94 x 0.47 inches                       \n1                        NaN                 NaN   \n2                        NaN    Dual SIM, 4G LTE   \n3  6.24 x 2.99 x 0.36 inches                 NaN   \n4         6.5 x 2 x 3 inches    Dual SIM, 4G LTE   \n5                        NaN                 NaN   \n6  5.96 x 2.76 x 0.32 inches                 NaN   \n7  6.38 x 2.98 x 0.33 inches                 NaN   \n8   2.94 x 6.1 x 0.38 inches                 NaN   \n\n  Wireless communication technologies  Connectivity technologies  \n0                                                                 \n1                                 NaN                        NaN  \n2                                 NaN                        NaN  \n3                                 NaN                        NaN  \n4                                 NaN                        NaN  \n5                 Bluetooth, Cellular             Bluetooth, USB  \n6                                 NaN  Wi-Fi Built In, Bluetooth  \n7                                 NaN                        NaN  \n8                                 NaN                        NaN  \n\n[9 rows x 23 columns]",
      "text/html": "<div>\n<style scoped>\n    .dataframe tbody tr th:only-of-type {\n        vertical-align: middle;\n    }\n\n    .dataframe tbody tr th {\n        vertical-align: top;\n    }\n\n    .dataframe thead th {\n        text-align: right;\n    }\n</style>\n<table border=\"1\" class=\"dataframe\">\n  <thead>\n    <tr style=\"text-align: right;\">\n      <th></th>\n      <th>Colour</th>\n      <th>Included Components</th>\n      <th>OS</th>\n      <th>Manufacturer</th>\n      <th>Device interface - primary</th>\n      <th>ASIN</th>\n      <th>Other display features</th>\n      <th>Package Dimensions</th>\n      <th>Date First Available</th>\n      <th>Other camera features</th>\n      <th>...</th>\n      <th>Item Weight</th>\n      <th>Best Sellers Rank</th>\n      <th>RAM</th>\n      <th>Is Discontinued By Manufacturer</th>\n      <th>Form Factor</th>\n      <th>Batteries</th>\n      <th>Product Dimensions</th>\n      <th>Additional Features</th>\n      <th>Wireless communication technologies</th>\n      <th>Connectivity technologies</th>\n    </tr>\n  </thead>\n  <tbody>\n    <tr>\n      <th>0</th>\n      <td>Black</td>\n      <td></td>\n      <td>Android</td>\n      <td>poptel</td>\n      <td></td>\n      <td>B07PRCKPDP</td>\n      <td>Wireless</td>\n      <td></td>\n      <td>March 17, 2019</td>\n      <td></td>\n      <td>...</td>\n      <td>7.2 ounces</td>\n      <td>#505,412 in Cell Phones &amp; Accessories ( See To...</td>\n      <td></td>\n      <td></td>\n      <td>Smartphone</td>\n      <td>1 Lithium Polymer batteries required. (included)</td>\n      <td>6.11 x 2.94 x 0.47 inches</td>\n      <td></td>\n      <td></td>\n      <td></td>\n    </tr>\n    <tr>\n      <th>1</th>\n      <td>NaN</td>\n      <td>NaN</td>\n      <td>NaN</td>\n      <td>Motorola</td>\n      <td>NaN</td>\n      <td>B07ZG6W4S2</td>\n      <td>NaN</td>\n      <td>6.6 x 3.7 x 2 inches</td>\n      <td>October 24, 2019</td>\n      <td>NaN</td>\n      <td>...</td>\n      <td>5.1 ounces</td>\n      <td>#1,312 in Cell Phones &amp; Accessories ( See Top ...</td>\n      <td>NaN</td>\n      <td>No</td>\n      <td>NaN</td>\n      <td>1 Lithium Polymer batteries required. (included)</td>\n      <td>NaN</td>\n      <td>NaN</td>\n      <td>NaN</td>\n      <td>NaN</td>\n    </tr>\n    <tr>\n      <th>2</th>\n      <td>Red</td>\n      <td>NaN</td>\n      <td>NaN</td>\n      <td>Samsung</td>\n      <td>NaN</td>\n      <td>B07ZDH95L4</td>\n      <td>Wireless</td>\n      <td>6.77 x 3.39 x 1.89 inches</td>\n      <td>October 21, 2019</td>\n      <td>NaN</td>\n      <td>...</td>\n      <td>12 ounces</td>\n      <td>#199 in Cell Phones &amp; Accessories ( See Top 10...</td>\n      <td>NaN</td>\n      <td>No</td>\n      <td>Smartphone</td>\n      <td>1 Lithium ion batteries required. (included)</td>\n      <td>NaN</td>\n      <td>Dual SIM, 4G LTE</td>\n      <td>NaN</td>\n      <td>NaN</td>\n    </tr>\n    <tr>\n      <th>3</th>\n      <td>NaN</td>\n      <td>NaN</td>\n      <td>NaN</td>\n      <td>Motorola</td>\n      <td>NaN</td>\n      <td>B084CVPLLC</td>\n      <td>NaN</td>\n      <td>NaN</td>\n      <td>April 1, 2020</td>\n      <td>NaN</td>\n      <td>...</td>\n      <td>12 ounces</td>\n      <td>#211 in Cell Phones &amp; Accessories ( See Top 10...</td>\n      <td>NaN</td>\n      <td>NaN</td>\n      <td>NaN</td>\n      <td>1 Lithium ion batteries required. (included)</td>\n      <td>6.24 x 2.99 x 0.36 inches</td>\n      <td>NaN</td>\n      <td>NaN</td>\n      <td>NaN</td>\n    </tr>\n    <tr>\n      <th>4</th>\n      <td>Black</td>\n      <td>NaN</td>\n      <td>Android</td>\n      <td>Samsung</td>\n      <td>NaN</td>\n      <td>B07Q84DPZH</td>\n      <td>Wireless</td>\n      <td>NaN</td>\n      <td>April 2, 2019</td>\n      <td>NaN</td>\n      <td>...</td>\n      <td>10.6 ounces</td>\n      <td>#4,144 in Cell Phones &amp; Accessories ( See Top ...</td>\n      <td>2 GB</td>\n      <td>No</td>\n      <td>Smartphone</td>\n      <td>1 Lithium Polymer batteries required. (included)</td>\n      <td>6.5 x 2 x 3 inches</td>\n      <td>Dual SIM, 4G LTE</td>\n      <td>NaN</td>\n      <td>NaN</td>\n    </tr>\n    <tr>\n      <th>5</th>\n      <td>Space Grey</td>\n      <td>NaN</td>\n      <td>Android 10.0</td>\n      <td>UMIDIGI</td>\n      <td>NaN</td>\n      <td>B083DMMM3K</td>\n      <td>CE</td>\n      <td>7.2 x 3.9 x 1.9 inches</td>\n      <td>January 1, 2020</td>\n      <td>Rear, Front</td>\n      <td>...</td>\n      <td>6.9 ounces</td>\n      <td>#22,038 in Cell Phones &amp; Accessories ( See Top...</td>\n      <td>NaN</td>\n      <td>NaN</td>\n      <td>Smartphone</td>\n      <td>NaN</td>\n      <td>NaN</td>\n      <td>NaN</td>\n      <td>Bluetooth, Cellular</td>\n      <td>Bluetooth, USB</td>\n    </tr>\n    <tr>\n      <th>6</th>\n      <td>Just Black</td>\n      <td>USB-C to C Cable, SIM tool, AC Adapter, OTG Do...</td>\n      <td>Chrome OS, Android</td>\n      <td>Google LLC</td>\n      <td>Touchscreen</td>\n      <td>B07R7DY911</td>\n      <td>Wireless</td>\n      <td>NaN</td>\n      <td>April 29, 2019</td>\n      <td>NaN</td>\n      <td>...</td>\n      <td>5.1 ounces</td>\n      <td>#295 in Cell Phones &amp; Accessories ( See Top 10...</td>\n      <td>64 GB</td>\n      <td>NaN</td>\n      <td>Smartphone</td>\n      <td>1 Lithium Polymer batteries required. (included)</td>\n      <td>5.96 x 2.76 x 0.32 inches</td>\n      <td>NaN</td>\n      <td>NaN</td>\n      <td>Wi-Fi Built In, Bluetooth</td>\n    </tr>\n    <tr>\n      <th>7</th>\n      <td>NaN</td>\n      <td>NaN</td>\n      <td>NaN</td>\n      <td>TCL</td>\n      <td>NaN</td>\n      <td>B087LYQ22N</td>\n      <td>NaN</td>\n      <td>NaN</td>\n      <td>April 22, 2020</td>\n      <td>NaN</td>\n      <td>...</td>\n      <td>13.4 ounces</td>\n      <td>#6,404 in Cell Phones &amp; Accessories ( See Top ...</td>\n      <td>NaN</td>\n      <td>NaN</td>\n      <td>NaN</td>\n      <td>NaN</td>\n      <td>6.38 x 2.98 x 0.33 inches</td>\n      <td>NaN</td>\n      <td>NaN</td>\n      <td>NaN</td>\n    </tr>\n    <tr>\n      <th>8</th>\n      <td>NaN</td>\n      <td>NaN</td>\n      <td>NaN</td>\n      <td>CUBOT</td>\n      <td>NaN</td>\n      <td>B0834X2743</td>\n      <td>NaN</td>\n      <td>NaN</td>\n      <td>December 26, 2019</td>\n      <td>NaN</td>\n      <td>...</td>\n      <td>14.3 ounces</td>\n      <td>#14,513 in Cell Phones &amp; Accessories ( See Top...</td>\n      <td>NaN</td>\n      <td>No</td>\n      <td>NaN</td>\n      <td>1 Lithium ion batteries required. (included)</td>\n      <td>2.94 x 6.1 x 0.38 inches</td>\n      <td>NaN</td>\n      <td>NaN</td>\n      <td>NaN</td>\n    </tr>\n  </tbody>\n</table>\n<p>9 rows × 23 columns</p>\n</div>"
     },
     "metadata": {},
     "execution_count": 43
    }
   ],
   "source": [
    "df_addl"
   ]
  },
  {
   "cell_type": "code",
   "execution_count": null,
   "metadata": {},
   "outputs": [],
   "source": []
  }
 ]
}